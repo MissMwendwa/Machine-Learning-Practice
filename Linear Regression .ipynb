{
 "cells": [
  {
   "cell_type": "code",
   "execution_count": 1,
   "id": "8a1d48c0",
   "metadata": {},
   "outputs": [],
   "source": [
    "#In this notebook, we will be doing a practise on how to use sklearn, Matplotlib and numpy to build linear Regression models using python"
   ]
  },
  {
   "cell_type": "code",
   "execution_count": 3,
   "id": "19fd2bd7",
   "metadata": {},
   "outputs": [
    {
     "name": "stderr",
     "output_type": "stream",
     "text": [
      "Matplotlib is building the font cache; this may take a moment.\n"
     ]
    }
   ],
   "source": [
    "#Importing the necessary Libraries\n",
    "# in this algorithm, note that we will be sing the equation\n",
    "# y= ax+b\n",
    "\n",
    "import numpy as np\n",
    "from sklearn.linear_model import LinearRegression\n",
    "import matplotlib.pyplot as plt"
   ]
  },
  {
   "cell_type": "code",
   "execution_count": 4,
   "id": "4b3513ee",
   "metadata": {},
   "outputs": [],
   "source": [
    "# generate arrays using numpy\n",
    "arr = np.array([5, 15, 25,35,45,55]).reshape((-1,1))\n",
    "arr1 = np.array([5, 20,14,32,22,38])\n"
   ]
  },
  {
   "cell_type": "code",
   "execution_count": 5,
   "id": "102d6b21",
   "metadata": {},
   "outputs": [
    {
     "data": {
      "text/plain": [
       "array([[ 5],\n",
       "       [15],\n",
       "       [25],\n",
       "       [35],\n",
       "       [45],\n",
       "       [55]])"
      ]
     },
     "execution_count": 5,
     "metadata": {},
     "output_type": "execute_result"
    }
   ],
   "source": [
    "arr"
   ]
  },
  {
   "cell_type": "code",
   "execution_count": 6,
   "id": "36bd8faa",
   "metadata": {},
   "outputs": [
    {
     "data": {
      "text/plain": [
       "array([ 5, 20, 14, 32, 22, 38])"
      ]
     },
     "execution_count": 6,
     "metadata": {},
     "output_type": "execute_result"
    }
   ],
   "source": [
    "arr1"
   ]
  },
  {
   "cell_type": "code",
   "execution_count": 7,
   "id": "07d2019e",
   "metadata": {},
   "outputs": [
    {
     "data": {
      "text/plain": [
       "LinearRegression()"
      ]
     },
     "execution_count": 7,
     "metadata": {},
     "output_type": "execute_result"
    }
   ],
   "source": [
    "# creating the model and fitting it with the generated arrays\n",
    "model = LinearRegression()\n",
    "model.fit(arr, arr1)"
   ]
  },
  {
   "cell_type": "code",
   "execution_count": 8,
   "id": "49c4653a",
   "metadata": {},
   "outputs": [
    {
     "name": "stdout",
     "output_type": "stream",
     "text": [
      "coeeficient of Determination: 0.715875613747954\n"
     ]
    }
   ],
   "source": [
    "#finding the correlation values in the model\n",
    "r_sq=model.score(arr, arr1)\n",
    "print(f\"coeeficient of Determination: {r_sq}\")"
   ]
  },
  {
   "cell_type": "code",
   "execution_count": 9,
   "id": "43d407ef",
   "metadata": {},
   "outputs": [
    {
     "name": "stdout",
     "output_type": "stream",
     "text": [
      "intecept: 5.633333333333329\n"
     ]
    }
   ],
   "source": [
    "# the model intercept\n",
    "print(f\"intecept: {model.intercept_}\")"
   ]
  },
  {
   "cell_type": "code",
   "execution_count": 10,
   "id": "b3c92dd1",
   "metadata": {},
   "outputs": [
    {
     "name": "stdout",
     "output_type": "stream",
     "text": [
      "slope: [0.54]\n"
     ]
    }
   ],
   "source": [
    "# the model coeficient\n",
    "print(f\"slope: {model.coef_}\")"
   ]
  },
  {
   "cell_type": "code",
   "execution_count": 11,
   "id": "7ef2d5d2",
   "metadata": {},
   "outputs": [
    {
     "name": "stdout",
     "output_type": "stream",
     "text": [
      "Intercept: [5.63333333]\n"
     ]
    }
   ],
   "source": [
    "# Using the same model, let's test do an experiment\n",
    "new_model = LinearRegression().fit(arr, arr1.reshape((-1,1)))\n",
    "print(f\"Intercept: {new_model.intercept_}\")"
   ]
  },
  {
   "cell_type": "code",
   "execution_count": 12,
   "id": "e5d5e52c",
   "metadata": {},
   "outputs": [
    {
     "name": "stdout",
     "output_type": "stream",
     "text": [
      "slope: [[0.54]]\n"
     ]
    }
   ],
   "source": [
    "print(f\"slope: {new_model.coef_}\")"
   ]
  },
  {
   "cell_type": "code",
   "execution_count": 13,
   "id": "0da99eba",
   "metadata": {},
   "outputs": [
    {
     "name": "stdout",
     "output_type": "stream",
     "text": [
      "predicted response:\n",
      "[ 8.33333333 13.73333333 19.13333333 24.53333333 29.93333333 35.33333333]\n"
     ]
    }
   ],
   "source": [
    "# Predicting the responses\n",
    "arr1_pred = model.predict(arr)\n",
    "print(f\"predicted response:\\n{arr1_pred}\")"
   ]
  },
  {
   "cell_type": "code",
   "execution_count": 14,
   "id": "d3a53002",
   "metadata": {},
   "outputs": [
    {
     "name": "stdout",
     "output_type": "stream",
     "text": [
      "predicted response:\n",
      "[[ 8.33333333]\n",
      " [13.73333333]\n",
      " [19.13333333]\n",
      " [24.53333333]\n",
      " [29.93333333]\n",
      " [35.33333333]]\n"
     ]
    }
   ],
   "source": [
    "arr1_pred = model.intercept_ + model.coef_*arr\n",
    "print(f\"predicted response:\\n{arr1_pred}\")"
   ]
  },
  {
   "cell_type": "code",
   "execution_count": 16,
   "id": "be51edf5",
   "metadata": {},
   "outputs": [
    {
     "data": {
      "text/plain": [
       "array([[0],\n",
       "       [1],\n",
       "       [2],\n",
       "       [3],\n",
       "       [4]])"
      ]
     },
     "execution_count": 16,
     "metadata": {},
     "output_type": "execute_result"
    }
   ],
   "source": [
    "# Let's do another practise on the same model generating from a range of numbers\n",
    "arr_new = np.arange(5).reshape((-1, 1))\n",
    "arr_new"
   ]
  },
  {
   "cell_type": "code",
   "execution_count": 17,
   "id": "470846ef",
   "metadata": {},
   "outputs": [
    {
     "data": {
      "text/plain": [
       "array([5.63333333, 6.17333333, 6.71333333, 7.25333333, 7.79333333])"
      ]
     },
     "execution_count": 17,
     "metadata": {},
     "output_type": "execute_result"
    }
   ],
   "source": [
    "arr1_new = model.predict(arr_new)\n",
    "arr1_new"
   ]
  },
  {
   "cell_type": "code",
   "execution_count": 20,
   "id": "83e94b96",
   "metadata": {},
   "outputs": [
    {
     "data": {
      "text/plain": [
       "[<matplotlib.lines.Line2D at 0x271aa8204c0>]"
      ]
     },
     "execution_count": 20,
     "metadata": {},
     "output_type": "execute_result"
    },
    {
     "data": {
      "image/png": "[encoded data removed]",
      "text/plain": [
       "<Figure size 432x288 with 1 Axes>"
      ]
     },
     "metadata": {
      "needs_background": "light"
     },
     "output_type": "display_data"
    }
   ],
   "source": [
    "# lets do a plot for the model\n",
    "plt.plot(arr, arr1, marker=\"x\", color=\"black\")\n"
   ]
  },
  {
   "cell_type": "code",
   "execution_count": 23,
   "id": "3b172161",
   "metadata": {},
   "outputs": [
    {
     "data": {
      "text/plain": [
       "[<matplotlib.lines.Line2D at 0x271aacc37c0>]"
      ]
     },
     "execution_count": 23,
     "metadata": {},
     "output_type": "execute_result"
    },
    {
     "data": {
      "image/png": "[encoded data removed]",
      "text/plain": [
       "<Figure size 432x288 with 1 Axes>"
      ]
     },
     "metadata": {
      "needs_background": "light"
     },
     "output_type": "display_data"
    }
   ],
   "source": [
    "# plotting the new model\n",
    "plt.scatter(arr_new, arr1_new, marker=\".\")\n",
    "plt.plot(arr_new, arr1_new)"
   ]
  },
  {
   "cell_type": "code",
   "execution_count": null,
   "id": "019184cd",
   "metadata": {},
   "outputs": [],
   "source": []
  }
 ],
 "metadata": {
  "kernelspec": {
   "display_name": "Python 3 (ipykernel)",
   "language": "python",
   "name": "python3"
  },
  "language_info": {
   "codemirror_mode": {
    "name": "ipython",
    "version": 3
   },
   "file_extension": ".py",
   "mimetype": "text/x-python",
   "name": "python",
   "nbconvert_exporter": "python",
   "pygments_lexer": "ipython3",
   "version": "3.9.12"
  }
 },
 "nbformat": 4,
 "nbformat_minor": 5
}
